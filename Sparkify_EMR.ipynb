{
 "cells": [
  {
   "cell_type": "markdown",
   "id": "da8c3c9f-a1ae-4f43-92a4-4506926fc7fc",
   "metadata": {},
   "source": [
    "### Import Libraries"
   ]
  },
  {
   "cell_type": "code",
   "execution_count": null,
   "id": "d9fa986b-0dae-4591-b072-61fb2fcec94f",
   "metadata": {
    "tags": []
   },
   "outputs": [],
   "source": [
    "import configparser\n",
    "from datetime import datetime\n",
    "import os\n",
    "from pyspark.sql import SparkSession\n",
    "from pyspark.sql.functions import udf, col, monotonically_increasing_id\n",
    "from pyspark.sql.functions import year, month, dayofmonth, hour, weekofyear, date_format, dayofweek"
   ]
  },
  {
   "cell_type": "markdown",
   "id": "4953f04a-3798-4d25-b7e6-a058e8b35063",
   "metadata": {},
   "source": [
    "### Configure AWS Keys"
   ]
  },
  {
   "cell_type": "code",
   "execution_count": null,
   "id": "5e81af10-ecda-44b3-8167-bf84e8b1fd9f",
   "metadata": {
    "tags": []
   },
   "outputs": [],
   "source": [
    "config = configparser.ConfigParser()\n",
    "config.read_file(open('dl.cfg'))\n",
    "os.environ['AWS_ACCESS_KEY_ID']= config.get('AWS', 'AWS_ACCESS_KEY_ID') \n",
    "os.environ['AWS_SECRET_ACCESS_KEY']= config.get('AWS', 'AWS_SECRET_ACCESS_KEY')"
   ]
  },
  {
   "cell_type": "markdown",
   "id": "6ed8b846-a18d-4f44-9bdd-35ab73b24f01",
   "metadata": {},
   "source": [
    "### Create Spark Session"
   ]
  },
  {
   "cell_type": "code",
   "execution_count": null,
   "id": "ec0430be-52f5-471e-b381-d0f107456322",
   "metadata": {
    "tags": []
   },
   "outputs": [],
   "source": [
    "def create_spark_session():\n",
    "    spark = SparkSession \\\n",
    "        .builder \\\n",
    "        .config(\"spark.jars.packages\", \"org.apache.hadoop:hadoop-aws:2.7.0\") \\\n",
    "        .config(\"spark.sql.broadcastTimeout\", \"360000\") \\\n",
    "        .getOrCreate()\n",
    "    return spark"
   ]
  },
  {
   "cell_type": "markdown",
   "id": "07daf83d-8784-40b0-8691-07313914a6f3",
   "metadata": {},
   "source": [
    "### Process Song Data"
   ]
  },
  {
   "cell_type": "code",
   "execution_count": null,
   "id": "da905dcf-0fe0-47f8-bc41-db6bc40c913f",
   "metadata": {
    "tags": []
   },
   "outputs": [],
   "source": [
    "def process_song_data(spark, input_data, output_data):\n",
    "    # get filepath to song data file\n",
    "    song_data = input_data + \"song_data/*/*/*/*.json\"\n",
    "\n",
    "    # read song data file\n",
    "    df = spark.read.json(song_data)\n",
    "\n",
    "    # extract columns to create songs table\n",
    "    songs_table = df.select(\n",
    "        ['song_id', 'title', 'artist_id', 'year', 'duration'])\n",
    "\n",
    "    # write songs table to parquet files partitioned by year and artist\n",
    "    songs_table.write.parquet(os.path.join(output_data, 'songs'),\n",
    "                              partitionBy=['year', 'artist_id'], mode='overwrite')\n",
    "\n",
    "    # extract columns to create artists table\n",
    "    artists_table = df.select(col('artist_id').alias('artist_id'), \\\n",
    "                              col('artist_name').alias('name'), \\\n",
    "                              col('artist_location').alias('location'), \\\n",
    "                              col('artist_latitude').alias('latitude'), \\\n",
    "                              col('artist_longitude').alias('longitude'))\n",
    "\n",
    "    # write artists table to parquet files\n",
    "    artists_table.write.parquet(os.path.join(output_data, 'artists'), mode='overwrite')"
   ]
  },
  {
   "cell_type": "markdown",
   "id": "b87e9399-048a-419d-bd2c-a7b1d95eca5f",
   "metadata": {},
   "source": [
    "### Process Log Data"
   ]
  },
  {
   "cell_type": "code",
   "execution_count": null,
   "id": "190c7f3f-5a46-45fa-9249-ab6c4e64a900",
   "metadata": {
    "tags": []
   },
   "outputs": [],
   "source": [
    "def process_log_data(spark, input_data, output_data):\n",
    "    # get filepath to log data file\n",
    "    log_data = input_data + 'log_data/*/*'\n",
    "\n",
    "    # read log data file\n",
    "    df = spark.read.json(log_data)\n",
    "\n",
    "    # filter by actions for song plays\n",
    "    df = df.filter(df.page == 'NextSong')\n",
    "\n",
    "    # extract columns for users table\n",
    "    users_table = df.select(\n",
    "        ['userId', 'firstName', 'lastName', 'gender', 'level'])\n",
    "\n",
    "    # write users table to parquet files\n",
    "    users_table.write.parquet(os.path.join(output_data, 'users'), mode='overwrite')\n",
    "\n",
    "    # create timestamp column from original timestamp column\n",
    "    get_timestamp = udf(lambda x: datetime.fromtimestamp(x / 1000).isoformat())\n",
    "    df = df.withColumn('timestamp', get_timestamp(df.ts))\n",
    "\n",
    "    # create datetime column from original timestamp column\n",
    "    get_datetime = udf(lambda x: str(datetime.fromtimestamp(int(x) / 1000)))\n",
    "    df = df.withColumn('datetime', get_datetime(df.ts))\n",
    "\n",
    "    # extract columns to create time table\n",
    "    time_table = df.select('datetime') \\\n",
    "            .withColumn('start_time', df.datetime) \\\n",
    "            .withColumn('hour', hour('datetime')) \\\n",
    "            .withColumn('day', dayofmonth('datetime')) \\\n",
    "            .withColumn('week', weekofyear('datetime')) \\\n",
    "            .withColumn('month', month('datetime')) \\\n",
    "            .withColumn('year', year('datetime')) \\\n",
    "            .withColumn('weekday', dayofweek('datetime'))\n",
    "\n",
    "    # write time table to parquet files partitioned by year and month\n",
    "    time_table.write.parquet(os.path.join(output_data, 'time'),\n",
    "                             partitionBy=['year', 'month'], mode='overwrite')\n",
    "\n",
    "    # read in song data to use for songplays table\n",
    "    song_data = input_data + \"song_data/*/*/*/*.json\"\n",
    "    song_df = spark.read.json(song_data)\n",
    "\n",
    "    # inner join log_data (df) with song_data (song_df) based on artisit name\n",
    "    joined_df = df.join(song_df, df.artist == song_df.artist_name, 'inner')\n",
    "\n",
    "    # add songplay_id as auto increment column to joined_df also year and month\n",
    "    joined_df = joined_df.withColumn('songplay_id', monotonically_increasing_id()) \\\n",
    "                         .withColumn('year', year('datetime')) \\\n",
    "                         .withColumn('month', month('datetime'))\n",
    "\n",
    "    # extract columns from joined song and log datasets to create songplays table\n",
    "    songplays_table = joined_df.select(('songplay_id'), \\\n",
    "            col('timestamp').alias('start_time'), \\\n",
    "            col('userId').alias('user_id'), \\\n",
    "            col('level'), \\\n",
    "            col('artist_id'), \\\n",
    "            col('location'), \\\n",
    "            col('userAgent').alias('user_agent'), \\\n",
    "            col('year'), \\\n",
    "            col('month'))\n",
    "\n",
    "    # write songplays table to parquet files partitioned by year and month\n",
    "    songplays_table.write.parquet(os.path.join(output_data, 'songplays'),\n",
    "                                  partitionBy=['year', 'month'], mode='overwrite')"
   ]
  },
  {
   "cell_type": "markdown",
   "id": "a7f43d3d-9000-490f-9e0d-eb5efd7bda66",
   "metadata": {},
   "source": [
    "### Main"
   ]
  },
  {
   "cell_type": "code",
   "execution_count": null,
   "id": "911fc19e-3c73-47a3-9cba-fd5ac6b4f144",
   "metadata": {
    "tags": []
   },
   "outputs": [],
   "source": [
    "spark = create_spark_session()\n",
    "input_data = \"s3a://udacity-dend/\"\n",
    "output_data = \"s3a://songsoutput/\"\n",
    "process_song_data(spark, input_data, output_data)\n",
    "process_log_data(spark, input_data, output_data)"
   ]
  }
 ],
 "metadata": {
  "kernelspec": {
   "display_name": "PySpark",
   "language": "",
   "name": "pysparkkernel"
  },
  "language_info": {
   "codemirror_mode": {
    "name": "python",
    "version": 3
   },
   "mimetype": "text/x-python",
   "name": "pyspark",
   "pygments_lexer": "python3"
  }
 },
 "nbformat": 4,
 "nbformat_minor": 5
}
